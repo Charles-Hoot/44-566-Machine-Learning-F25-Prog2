{
 "cells": [
  {
   "attachments": {},
   "cell_type": "markdown",
   "metadata": {},
   "source": [
    "## Assignment 2 - Numpy, Slices, Comprehensions"
   ]
  },
  {
   "attachments": {},
   "cell_type": "markdown",
   "metadata": {},
   "source": [
    "## Part 1\n",
    "* Read a string from input using a prompt\n",
    "* Use a list comprehension to create a list of all the characters in the string.\n",
    "* Use a set conversion to get the unique characters and print that number.\n",
    "* Iterate over the set and print the characters\n",
    "which are not alpha numeric.\n"
   ]
  },
  {
   "attachments": {},
   "cell_type": "markdown",
   "metadata": {},
   "source": [
    "## Part 2\n",
    "* Create a function `logs` that will use input and split() to read two values: x (float) and n (integer greater than 1).  \n",
    "* Use a list comprehension to create a list of the logs of x.\n",
    "\n",
    "$[log_2(x), log_3(x), log_4(x), ..., log_{10}(x)]$\n",
    "\n",
    "* Convert that list to a numpy array and return it.\n",
    "\n",
    "\n",
    "Call logs twice to create two arrays with n=12 and x=100.0 and x=3.3 and then plot each array using matplotlib.  You do not need to lable the axises\n",
    "\n"
   ]
  },
  {
   "attachments": {},
   "cell_type": "markdown",
   "metadata": {},
   "source": [
    "## Part 3\n",
    "* Use the `logs` function to create an array x_values with x=8.9 and n=20\n",
    "* Use the sin function from numpy on the array to create y_values  (No explicit iteration is needed.)\n",
    "\n",
    "* Use matplotlib to create a scatter plot with the x_values and y_values.\n"
   ]
  },
  {
   "attachments": {},
   "cell_type": "markdown",
   "metadata": {},
   "source": [
    "## Part 4\n",
    "* Write a function `isPrime` that will take an integer greater than 1 and return true if the argument is prime and false otherwise.\n",
    "* Write a function `next` that will take a positive integer and compute a new value by taking each digit and squaring and then summing the results.  For example.\n",
    "If the number is 1230\n",
    "    - compute $1^2 + 2^2 + 3^2+0^2 = 1+4+9+0\n",
    "=14$.\n",
    "* Write a function `isHappy` that will take an interger greater than 1 and return true if the argument is happy.  To determine if a number is happy repeat calling `next` until you reach 1 or there is a cycle of values.\n",
    "For example, if we start with 2, the values we compute are 4, 16, 37, 58, 89, 145, 42, 20, 4 and we detect a cycle.  This number is not happy. (Every value on the cycle is also not happy.)\n",
    "\n",
    "On the other hand, if we start at 7, we get 49, 97, 130, 10, 1. This hits 1 and it is happy. (Every value in this sequence is happy.)\n",
    "\n",
    "* Write a function `happyPrime` that will take an interger greater than 1 and return true if it is both prime and happy.\n",
    "* Write a function `allHappy` that will take an integer greater than 1 and will return a pair of lists.  The first is a list of all the happy values from 2 to n.  The second is a list of all the not happy values from 2 to n."
   ]
  },
  {
   "attachments": {},
   "cell_type": "markdown",
   "metadata": {},
   "source": [
    "## Part 5\n",
    "* Write a function `maxVol` that takes a single argument data (numpy array) and returns a new array with True/False if the value in data is less than 20.  No explicit iteration is needed.  \n",
    "* Write a second function `package_check` that takes in three numpy arrays `height`, `width`, and `length`.  \n",
    "    * Compute a new array `volumns` that multiplies the three arrays together.  No explicit iteration is needed.\n",
    "    * Compute a new array `shipable` by applying the maxVol function to `volumns`.\n",
    "    * Return shipable.\n",
    "~~~    \n",
    "h=np.array([1, 4, 3])\n",
    "w=np.array([2, 3, 3])\n",
    "l=np.array([1, 5, 1])\n",
    "print(package_check(h,w,l))\n",
    "~~~\n",
    "Should be [True False True]\n",
    "\n",
    "\n",
    "\n",
    "Question: Does package_check work with three arguments that are not arrays?  Answer in a new markdown."
   ]
  },
  {
   "cell_type": "markdown",
   "metadata": {},
   "source": [
    "## Part 6\n",
    "Do at least three calls on each function you created to verify the correct operation."
   ]
  },
  {
   "attachments": {},
   "cell_type": "markdown",
   "metadata": {},
   "source": [
    "## Bonus\n",
    "* We can do a doubly nested list comprehension.  So if we have a big_list containing lists, we can iterate over the original big_list and each of the sublists... here is the form\n",
    "    [item for sub_list in big_list for item in sub_list]\n",
    "\n",
    "Think of it as an outer loop followed by and inner loop.\n",
    "\n",
    "In a new code cell\n",
    "* Write a function `freq` that takes a list of strings as its argument.\n",
    "* Use a list comprehsion to split each word in the list.\n",
    "* Use a nested comprehension to create a list of all the characters.\n",
    "* Create a set from the list \n",
    "* Use a dictionary comprehension over the unique characters that maps to a count.\n",
    "\n",
    "For example: If the input is ['abc', 'nbc', 'cbs'] we compute in order the following\n",
    "~~~\n",
    "[['a', 'b', 'c'], ['n', 'b', 'c'], ['c', 'b', 's']]\n",
    "\n",
    "['a', 'b', 'c', 'n', 'b', 'c', 'c', 'b', 's']\n",
    "\n",
    "{'a', 'b', 'c', 'n', 's'}\n",
    "\n",
    "{'a':1, 'b':3, 'c':3, 'n':1, 's':1}\n",
    "~~~\n",
    "\n",
    "Document your results in a new markdown cell."
   ]
  },
  {
   "cell_type": "code",
   "execution_count": null,
   "metadata": {},
   "outputs": [],
   "source": []
  }
 ],
 "metadata": {
  "kernelspec": {
   "display_name": "Python 3 (ipykernel)",
   "language": "python",
   "name": "python3"
  },
  "language_info": {
   "codemirror_mode": {
    "name": "ipython",
    "version": 3
   },
   "file_extension": ".py",
   "mimetype": "text/x-python",
   "name": "python",
   "nbconvert_exporter": "python",
   "pygments_lexer": "ipython3",
   "version": "3.9.10"
  },
  "vscode": {
   "interpreter": {
    "hash": "31f2aee4e71d21fbe5cf8b01ff0e069b9275f58929596ceb00d14d90e3e16cd6"
   }
  }
 },
 "nbformat": 4,
 "nbformat_minor": 4
}
